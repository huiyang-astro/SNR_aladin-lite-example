{
 "cells": [
  {
   "cell_type": "code",
   "execution_count": 33,
   "metadata": {},
   "outputs": [],
   "source": [
    "import numpy as np, pandas as pd\n",
    "from astropy.table import Table\n",
    "from astropy.io.votable import from_table"
   ]
  },
  {
   "cell_type": "code",
   "execution_count": 34,
   "metadata": {},
   "outputs": [
    {
     "name": "stderr",
     "output_type": "stream",
     "text": [
      "WARNING: W03: ?:?:?: W03: Implicitly generating an ID from a name 'ID ' -> 'ID_' [astropy.io.votable.xmlutil]\n",
      "WARNING: W03: ?:?:?: W03: Implicitly generating an ID from a name 'Name ' -> 'Name_' [astropy.io.votable.xmlutil]\n",
      "WARNING: W03: ?:?:?: W03: Implicitly generating an ID from a name 'RA ' -> 'RA_' [astropy.io.votable.xmlutil]\n",
      "WARNING: W03: ?:?:?: W03: Implicitly generating an ID from a name 'DEC ' -> 'DEC_' [astropy.io.votable.xmlutil]\n",
      "WARNING: W03: ?:?:?: W03: Implicitly generating an ID from a name 'ℓ' -> '__' [astropy.io.votable.xmlutil]\n",
      "WARNING: W03: ?:?:?: W03: Implicitly generating an ID from a name 'b ' -> 'b_' [astropy.io.votable.xmlutil]\n",
      "WARNING: W03: ?:?:?: W03: Implicitly generating an ID from a name 'Mag. ' -> 'Mag._' [astropy.io.votable.xmlutil]\n",
      "WARNING: W03: ?:?:?: W03: Implicitly generating an ID from a name 'd ' -> 'd_' [astropy.io.votable.xmlutil]\n",
      "WARNING: W03: ?:?:?: W03: Implicitly generating an ID from a name 'Porb ' -> 'Porb_' [astropy.io.votable.xmlutil]\n"
     ]
    }
   ],
   "source": [
    "\n",
    "df_bc = pd.read_csv('./BlackCAT/BlackCAT.csv')\n",
    "\n",
    "votable = from_table(Table.from_pandas(df_bc))\n",
    "votable.to_xml(\"BlackCAT.vot\")\n"
   ]
  },
  {
   "cell_type": "code",
   "execution_count": 41,
   "metadata": {},
   "outputs": [],
   "source": [
    "df_xmm = pd.read_csv('/Users/huiyang/Research/GitHub/MUWCLASS_XMM/codes/buildTD/data/4XMM_DR13cat_v1.0_slim.csv')\n",
    "\n",
    "df_xmm = df_xmm.rename(columns={'iauname':'name','sc_ra':'RA','sc_dec':'DEC'})\n",
    "# print(df_xmm.head())\n",
    "\n",
    "votable = from_table(Table.from_pandas(df_xmm[['name','RA','DEC']]))#,'sc_poserr','sc_det_ml','n_detections']]))\n",
    "votable.to_xml(\"4XMM-DR13.vot\")"
   ]
  },
  {
   "cell_type": "code",
   "execution_count": 25,
   "metadata": {},
   "outputs": [],
   "source": []
  },
  {
   "cell_type": "code",
   "execution_count": 46,
   "metadata": {},
   "outputs": [],
   "source": [
    "SNRs = 'G0.0+0.0, G0.3+0.0, G0.9+0.1, G1.0−0.1, G1.4−0.1, G1.9+0.3, G3.1−0.6, G3.7−0.2, G3.8+0.3, G4.2−3.5, G4.5+6.8, G4.8+6.2, G5.2−2.6, G5.4−1.2, G5.5+0.3, G5.9+3.1, G6.1+0.5, G6.1+1.2, G6.4−0.1, G6.4+4.0, G6.5−0.4, G7.0−0.1, G7.2+0.2, G7.5−1.7, G7.7−3.7, G8.7−5.0, G8.7−0.1, G8.9+0.4, G9.7−0.0, G9.8+0.6, G9.9−0.8, G11.0−0.0, G11.1−0.7, G11.1+0.1, G11.2−0.3, G11.4−0.1, G11.8−0.2, G12.0−0.1, G12.2+0.3, G12.5+0.2, G12.7−0.0, G12.8−0.0, G13.1−0.5, G13.3−1.3, G13.5+0.2, G14.1−0.1, G15.1−1.6, G15.4+0.1, G15.5−0.1, G15.9+0.2, G16.0−0.5, G16.2−2.7, G16.7+0.1, G17.0−0.0, G17.4−2.3, G17.4−0.1, G17.8−2.6, G18.1−0.1, G18.6−0.2, G18.8+0.3, G18.9−1.1, G19.1+0.2, G20.0−0.2, G21.0−0.4, G21.5−0.9, G21.6−0.8, G21.8−3.0, G21.8−0.6, G22.7−0.2, G23.3−0.3, G24.7−0.6, G24.7+0.6, G25.1−2.3, G27.4+0.0, G27.8+0.6, G28.3+0.2, G28.6−0.1, G28.7−0.4, G28.8+1.5, G29.6+0.1, G29.7−0.3, G30.7−2.0, G30.7+1.0, G31.5−0.6, G31.9+0.0, G32.0−4.9, G32.1−0.9, G32.4+0.1, G32.8−0.1, G33.2−0.6, G33.6+0.1, G34.7−0.4, G35.6−0.4, G36.6−0.7, G36.6+2.6, G38.7−1.3, G39.2−0.3, G39.7−2.0, G40.5−0.5, G41.1−0.3, G41.5+0.4, G42.0−0.1, G42.8+0.6, G43.3−0.2, G43.9+1.6, G45.7−0.4, G46.8−0.3, G49.2−0.7, G53.4+0.0, G53.6−2.2, G54.1+0.3, G54.4−0.3, G55.0+0.3, G55.7+3.4, G57.2+0.8, G59.5+0.1, G63.7+1.1, G64.5+0.9, G65.1+0.6, G65.3+5.7, G65.7+1.2, G66.0−0.0, G67.6+0.9, G67.7+1.8, G67.8+0.5, G68.6−1.2, G69.0+2.7, G69.7+1.0, G70.0−21.5, G73.9+0.9, G74.0−8.5, G74.9+1.2, G76.9+1.0, G78.2+2.1, G82.2+5.3, G83.0−0.3, G84.2−0.8, G85.4+0.7, G85.9−0.6, G89.0+4.7, G93.3+6.9, G93.7−0.2, G94.0+1.0, G96.0+2.0, G106.3+2.7, G107.0+9.0, G108.2−0.6, G109.1−1.0, G111.7−2.1, G113.0+0.2, G114.3+0.3, G116.5+1.1, G116.9+0.2, G119.5+10.2, G120.1+1.4, G126.2+1.6, G127.1+0.5, G130.7+3.1, G132.7+1.3, G150.3+4.5, G152.4−2.1, G156.2+5.7, G159.6+7.3, G160.9+2.6, G166.0+4.3, G178.2−4.2, G179.0+2.6, G180.0−1.7, G181.1+9.5, G182.4+4.3, G184.6−5.8, G189.1+3.0, G190.9−2.2, G205.5+0.5, G206.9+2.3, G213.0−0.6, G249.5+24.5, G260.4−3.4, G261.9+5.5, G263.9−3.3, G266.2−1.2, G272.2−3.2, G279.0+1.1, G284.3−1.8, G286.5−1.2, G289.7−0.3, G290.1−0.8, G291.0−0.1, G292.0+1.8, G292.2−0.5, G293.8+0.6, G294.1−0.0, G296.1−0.5, G296.5+10.0, G296.7−0.9, G296.8−0.3, G298.5−0.3, G298.6−0.0, G299.2−2.9, G299.6−0.5, G301.4−1.0, G302.3+0.7, G304.6+0.1, G306.3−0.9, G308.1−0.7, G308.4−1.4, G308.8−0.1, G309.2−0.6, G309.8+0.0, G310.6−1.6, G310.6−0.3, G310.8−0.4, G311.5−0.3, G312.4−0.4, G312.5−3.0, G315.1+2.7, G315.4−2.3, G315.4−0.3, G315.9−0.0, G316.3−0.0, G317.3−0.2, G318.2+0.1, G318.9+0.4, G320.4−1.2, G320.6−1.6, G321.9−1.1, G321.9−0.3, G322.1+0.0, G322.5−0.1, G323.5+0.1, G323.7−1.0, G326.3−1.8, G327.1−1.1, G327.2−0.1, G327.4+0.4, G327.4+1.0, G327.6+14.6, G328.4+0.2, G329.7+0.4, G330.0+15.0, G330.2+1.0, G332.0+0.2, G332.4−0.4, G332.4+0.1, G332.5−5.6, G335.2+0.1, G336.7+0.5, G337.0−0.1, G337.2−0.7, G337.2+0.1, G337.3+1.0, G337.8−0.1, G338.1+0.4, G338.3−0.0, G338.5+0.1, G340.4+0.4, G340.6+0.3, G341.2+0.9, G341.9−0.3, G342.0−0.2, G342.1+0.9, G343.0−6.0, G343.1−2.3, G343.1−0.7, G344.7−0.1, G345.1−0.2, G345.1+0.2, G345.7−0.2, G346.6−0.2, G347.3−0.5, G348.5−0.0, G348.5+0.1, G348.7+0.3, G348.8+1.1, G349.2−0.1, G349.7+0.2, G350.0−2.0, G350.1−0.3, G351.0−5.4, G351.2+0.1, G351.7+0.8, G351.9−0.9, G352.7−0.1, G353.3−1.1, G353.6−0.7, G353.9−2.0, G354.1+0.1, G354.8−0.8, G355.4+0.7, G355.6−0.0, G355.9−2.5, G356.2+4.5, G356.3−1.5, G356.3−0.3, G357.7−0.1, G357.7+0.3, G358.0+3.8, G358.1+1.0, G358.5−0.9, G359.0−0.9, G359.1−0.5, G359.1+0.9, G359.2−1.1'\n",
    "\n",
    "SNRs_list = [ snr.lstrip() for snr in SNRs.split(',')]"
   ]
  },
  {
   "cell_type": "code",
   "execution_count": 48,
   "metadata": {},
   "outputs": [
    {
     "data": {
      "text/plain": [
       "303"
      ]
     },
     "execution_count": 48,
     "metadata": {},
     "output_type": "execute_result"
    }
   ],
   "source": [
    "len(SNRs_list)"
   ]
  },
  {
   "cell_type": "code",
   "execution_count": null,
   "metadata": {},
   "outputs": [],
   "source": []
  }
 ],
 "metadata": {
  "kernelspec": {
   "display_name": "ciao-4.15",
   "language": "python",
   "name": "python3"
  },
  "language_info": {
   "codemirror_mode": {
    "name": "ipython",
    "version": 3
   },
   "file_extension": ".py",
   "mimetype": "text/x-python",
   "name": "python",
   "nbconvert_exporter": "python",
   "pygments_lexer": "ipython3",
   "version": "3.10.8"
  },
  "orig_nbformat": 4
 },
 "nbformat": 4,
 "nbformat_minor": 2
}
