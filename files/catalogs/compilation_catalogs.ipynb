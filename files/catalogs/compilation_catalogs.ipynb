{
 "cells": [
  {
   "cell_type": "code",
   "execution_count": 33,
   "metadata": {},
   "outputs": [],
   "source": [
    "import numpy as np, pandas as pd\n",
    "from astropy.table import Table\n",
    "from astropy.io.votable import from_table"
   ]
  },
  {
   "cell_type": "code",
   "execution_count": 34,
   "metadata": {},
   "outputs": [
    {
     "name": "stderr",
     "output_type": "stream",
     "text": [
      "WARNING: W03: ?:?:?: W03: Implicitly generating an ID from a name 'ID ' -> 'ID_' [astropy.io.votable.xmlutil]\n",
      "WARNING: W03: ?:?:?: W03: Implicitly generating an ID from a name 'Name ' -> 'Name_' [astropy.io.votable.xmlutil]\n",
      "WARNING: W03: ?:?:?: W03: Implicitly generating an ID from a name 'RA ' -> 'RA_' [astropy.io.votable.xmlutil]\n",
      "WARNING: W03: ?:?:?: W03: Implicitly generating an ID from a name 'DEC ' -> 'DEC_' [astropy.io.votable.xmlutil]\n",
      "WARNING: W03: ?:?:?: W03: Implicitly generating an ID from a name 'ℓ' -> '__' [astropy.io.votable.xmlutil]\n",
      "WARNING: W03: ?:?:?: W03: Implicitly generating an ID from a name 'b ' -> 'b_' [astropy.io.votable.xmlutil]\n",
      "WARNING: W03: ?:?:?: W03: Implicitly generating an ID from a name 'Mag. ' -> 'Mag._' [astropy.io.votable.xmlutil]\n",
      "WARNING: W03: ?:?:?: W03: Implicitly generating an ID from a name 'd ' -> 'd_' [astropy.io.votable.xmlutil]\n",
      "WARNING: W03: ?:?:?: W03: Implicitly generating an ID from a name 'Porb ' -> 'Porb_' [astropy.io.votable.xmlutil]\n"
     ]
    }
   ],
   "source": [
    "\n",
    "df_bc = pd.read_csv('./BlackCAT/BlackCAT.csv')\n",
    "\n",
    "votable = from_table(Table.from_pandas(df_bc))\n",
    "votable.to_xml(\"BlackCAT.vot\")\n"
   ]
  },
  {
   "cell_type": "code",
   "execution_count": 41,
   "metadata": {},
   "outputs": [],
   "source": [
    "df_xmm = pd.read_csv('/Users/huiyang/Research/GitHub/MUWCLASS_XMM/codes/buildTD/data/4XMM_DR13cat_v1.0_slim.csv')\n",
    "\n",
    "df_xmm = df_xmm.rename(columns={'iauname':'name','sc_ra':'RA','sc_dec':'DEC'})\n",
    "# print(df_xmm.head())\n",
    "\n",
    "votable = from_table(Table.from_pandas(df_xmm[['name','RA','DEC']]))#,'sc_poserr','sc_det_ml','n_detections']]))\n",
    "votable.to_xml(\"4XMM-DR13.vot\")"
   ]
  },
  {
   "cell_type": "code",
   "execution_count": 25,
   "metadata": {},
   "outputs": [],
   "source": []
  },
  {
   "cell_type": "code",
   "execution_count": 86,
   "metadata": {},
   "outputs": [],
   "source": [
    "SNR_file = open('SNRcat.xlsx')\n",
    "\n",
    "lines = SNR_file.readlines()[1:]\n",
    "\n",
    "df_SNR = pd.DataFrame()\n",
    "for l in lines:\n",
    "    #print(l)\n",
    "    #print(l.find('snrs.'))\n",
    "    idx1 = l.find('snrs.')\n",
    "    idx2 = l.find('.html')\n",
    "    snr_name = l[idx1+5:idx2]\n",
    "    idx3 = l.find('/A>')\n",
    "    RA = l[idx3+5:idx3+14]\n",
    "    DEC = l[idx3+15:idx3+21]\n",
    "    rest = [s.lstrip() for s in l[idx3+22:-1].split()]\n",
    "    row = {'name':f'<A href=\"https://www.mrao.cam.ac.uk/surveys/snrs/snrs.{snr_name}.html\">{snr_name}</A>','RA':RA,'DEC':DEC,'size':rest[0],'type':rest[1],'F_1G':rest[2],'index':rest[3]}\n",
    "    df_SNR = pd.concat([df_SNR, pd.DataFrame(row, index=[0])], ignore_index=True,sort=False)\n",
    "    #print(f'{snr_name} ..{RA}..{DEC}..{len(rest)}')\n",
    "\n",
    "votable = from_table(Table.from_pandas(df_SNR))#,'sc_poserr','sc_det_ml','n_detections']]))\n",
    "votable.to_xml(\"SNR.vot\")"
   ]
  },
  {
   "cell_type": "code",
   "execution_count": null,
   "metadata": {},
   "outputs": [],
   "source": []
  }
 ],
 "metadata": {
  "kernelspec": {
   "display_name": "ciao-4.15",
   "language": "python",
   "name": "python3"
  },
  "language_info": {
   "codemirror_mode": {
    "name": "ipython",
    "version": 3
   },
   "file_extension": ".py",
   "mimetype": "text/x-python",
   "name": "python",
   "nbconvert_exporter": "python",
   "pygments_lexer": "ipython3",
   "version": "3.10.8"
  },
  "orig_nbformat": 4
 },
 "nbformat": 4,
 "nbformat_minor": 2
}
